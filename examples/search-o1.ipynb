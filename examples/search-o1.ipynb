{
 "cells": [
  {
   "cell_type": "markdown",
   "id": "422d13ff-b4ac-4754-bb63-8a02e3897a92",
   "metadata": {},
   "source": [
    "# Search-O1\n",
    "\n",
    "This is a prompt based method to generate queries as part of inference."
   ]
  },
  {
   "cell_type": "code",
   "execution_count": 1,
   "id": "4c7e8410-291c-4db0-8134-841f868106f6",
   "metadata": {},
   "outputs": [],
   "source": [
    "#%pip install -q python-terrier accelerate pyterrier_t5\n",
    "#%pip install -q git+https://github.com/terrierteam/pyterrier_rag.git"
   ]
  },
  {
   "cell_type": "code",
   "execution_count": 2,
   "id": "c23965e2-f283-48fc-b41b-e16f69e2ac3a",
   "metadata": {},
   "outputs": [],
   "source": [
    "import pyterrier as pt\n",
    "import pyterrier_rag\n",
    "import torch"
   ]
  },
  {
   "cell_type": "markdown",
   "id": "10847b72-6863-40ef-8841-acf5be972a20",
   "metadata": {},
   "source": [
    "## Retrieval Setup\n",
    "\n",
    "Lets get a BM25 retriever. This (Terrier) retriever also has the 'text', 'title' metadata for passages."
   ]
  },
  {
   "cell_type": "code",
   "execution_count": 3,
   "id": "662cafbc-dcfb-4fb7-aeb3-8fef084bce5b",
   "metadata": {},
   "outputs": [
    {
     "name": "stderr",
     "output_type": "stream",
     "text": [
      "Java started (triggered by tokenise) and loaded: pyterrier.java, pyterrier.terrier.java [version=5.11 (build: craig.macdonald 2025-01-13 21:29), helper_version=0.0.8]\n"
     ]
    },
    {
     "name": "stdout",
     "output_type": "stream",
     "text": [
      "14:18:10.735 [main] WARN org.terrier.structures.BaseCompressingMetaIndex -- Structure meta reading lookup file directly from disk (SLOW) - try index.meta.index-source=fileinmem in the index properties file. 160.3 MiB of memory would be required.\n",
      "14:18:10.748 [main] WARN org.terrier.structures.BaseCompressingMetaIndex -- Structure meta reading data file directly from disk (SLOW) - try index.meta.data-source=fileinmem in the index properties file. 8.2 GiB of memory would be required.\n"
     ]
    }
   ],
   "source": [
    "sparse_index = pt.Artifact.from_hf('pyterrier/ragwiki-terrier')\n",
    "\n",
    "# queries from R1 may have tokens that Terrier doesnt like. We can remove them and put them back later.\n",
    "bm25 = pt.rewrite.tokenise() >> sparse_index.bm25(include_fields=['docno', 'text', 'title']) >> pt.rewrite.reset()\n"
   ]
  },
  {
   "cell_type": "markdown",
   "id": "0c259641",
   "metadata": {},
   "source": [
    "# Reader Setup\n",
    "\n",
    "We're going to use a DeepSeek R1 model"
   ]
  },
  {
   "cell_type": "code",
   "execution_count": 4,
   "id": "e767ca6f",
   "metadata": {},
   "outputs": [
    {
     "data": {
      "application/vnd.jupyter.widget-view+json": {
       "model_id": "23243d18263d48debe70c9e462b9f417",
       "version_major": 2,
       "version_minor": 0
      },
      "text/plain": [
       "Loading checkpoint shards:   0%|          | 0/2 [00:00<?, ?it/s]"
      ]
     },
     "metadata": {},
     "output_type": "display_data"
    }
   ],
   "source": [
    "model_args = {\"torch_dtype\": torch.bfloat16, \"trust_remote_code\": True}\n",
    "generator = pyterrier_rag.readers.CausalLMReader(\n",
    "    \"deepseek-ai/DeepSeek-R1-Distill-Llama-8B\", # Or use this larger model for better answers... \"deepseek-ai/DeepSeek-R1-Distill-Qwen-14B\", \n",
    "    model_args = model_args, \n",
    "    text_max_length=4096, \n",
    "    max_new_tokens=2048,\n",
    ")"
   ]
  },
  {
   "cell_type": "markdown",
   "id": "a17b3726-0618-4154-9403-baa8cafee837",
   "metadata": {},
   "source": [
    "## Search-O1 model\n",
    "\n",
    "We invoke SearchR1 using our BM25 retrieval pipeline. By default, SearchR1 takes only 3 passages from the specified retriever."
   ]
  },
  {
   "cell_type": "code",
   "execution_count": 5,
   "id": "51021048-595f-467d-8062-de63d6aff766",
   "metadata": {},
   "outputs": [],
   "source": [
    "o1_bm25 = pyterrier_rag.SearchO1(bm25, generator)"
   ]
  },
  {
   "cell_type": "markdown",
   "id": "e037b3a2-570b-4664-848e-3fbf0e420460",
   "metadata": {},
   "source": [
    "Lets try it out. We get back a dataframe with one row, which has the generated answer in the qanswer column."
   ]
  },
  {
   "cell_type": "code",
   "execution_count": 6,
   "id": "8abb1807-40a5-4ec6-a43a-f71c1914f2e5",
   "metadata": {},
   "outputs": [
    {
     "data": {
      "text/html": [
       "<div>\n",
       "<style scoped>\n",
       "    .dataframe tbody tr th:only-of-type {\n",
       "        vertical-align: middle;\n",
       "    }\n",
       "\n",
       "    .dataframe tbody tr th {\n",
       "        vertical-align: top;\n",
       "    }\n",
       "\n",
       "    .dataframe thead th {\n",
       "        text-align: right;\n",
       "    }\n",
       "</style>\n",
       "<table border=\"1\" class=\"dataframe\">\n",
       "  <thead>\n",
       "    <tr style=\"text-align: right;\">\n",
       "      <th></th>\n",
       "      <th>qid</th>\n",
       "      <th>question</th>\n",
       "      <th>prompt</th>\n",
       "      <th>output</th>\n",
       "      <th>finished</th>\n",
       "      <th>history</th>\n",
       "      <th>search_count</th>\n",
       "      <th>search_queries</th>\n",
       "      <th>retrieval_results</th>\n",
       "      <th>qanswer</th>\n",
       "    </tr>\n",
       "  </thead>\n",
       "  <tbody>\n",
       "    <tr>\n",
       "      <th>0</th>\n",
       "      <td>1</td>\n",
       "      <td>what are chemical reactions?</td>\n",
       "      <td>You are a reasoning assistant with the ability...</td>\n",
       "      <td>Okay, so I need to figure out what chemical re...</td>\n",
       "      <td>True</td>\n",
       "      <td>[Okay, so I need to figure out what chemical r...</td>\n",
       "      <td>0</td>\n",
       "      <td>{}</td>\n",
       "      <td>{}</td>\n",
       "      <td></td>\n",
       "    </tr>\n",
       "  </tbody>\n",
       "</table>\n",
       "</div>"
      ],
      "text/plain": [
       "  qid                      question  \\\n",
       "0   1  what are chemical reactions?   \n",
       "\n",
       "                                              prompt  \\\n",
       "0  You are a reasoning assistant with the ability...   \n",
       "\n",
       "                                              output  finished  \\\n",
       "0  Okay, so I need to figure out what chemical re...      True   \n",
       "\n",
       "                                             history  search_count  \\\n",
       "0  [Okay, so I need to figure out what chemical r...             0   \n",
       "\n",
       "  search_queries retrieval_results qanswer  \n",
       "0             {}                {}          "
      ]
     },
     "execution_count": 6,
     "metadata": {},
     "output_type": "execute_result"
    }
   ],
   "source": [
    "res = o1_bm25.search(\"what are chemical reactions?\")\n",
    "res"
   ]
  },
  {
   "cell_type": "markdown",
   "id": "89a8d04b-3997-4eb8-956e-a46e2c75e4d5",
   "metadata": {},
   "source": [
    "We can see the answer in the qanswer column"
   ]
  },
  {
   "cell_type": "code",
   "execution_count": 7,
   "id": "fc389af8-539d-4af5-86d7-b2ccac8a00f3",
   "metadata": {},
   "outputs": [
    {
     "data": {
      "text/plain": [
       "''"
      ]
     },
     "execution_count": 7,
     "metadata": {},
     "output_type": "execute_result"
    }
   ],
   "source": [
    "res.iloc[0].qanswer"
   ]
  },
  {
   "cell_type": "markdown",
   "id": "e5dfaabf-e588-4207-abcf-f9576966c36b",
   "metadata": {},
   "source": [
    "The all_queries column shows the queries that were passed to the search engine"
   ]
  },
  {
   "cell_type": "code",
   "execution_count": 8,
   "id": "92139b8c-1521-4a77-8993-6d4b72ededac",
   "metadata": {},
   "outputs": [
    {
     "data": {
      "text/plain": [
       "set()"
      ]
     },
     "execution_count": 8,
     "metadata": {},
     "output_type": "execute_result"
    }
   ],
   "source": [
    "res.iloc[0].search_queries"
   ]
  },
  {
   "cell_type": "markdown",
   "id": "d2698d6a-e754-4f0c-a8ca-b18118517dff",
   "metadata": {},
   "source": [
    "Finally, we can also see the full output of the model, including its reasoning, its generated query, the retrieved documents, and the generated final answer..."
   ]
  },
  {
   "cell_type": "code",
   "execution_count": 9,
   "id": "9471202b-358f-4d1c-a223-4212abc845d8",
   "metadata": {},
   "outputs": [
    {
     "name": "stdout",
     "output_type": "stream",
     "text": [
      "Okay, so I need to figure out what chemical reactions are. Let me start by recalling what I know from school. Chemical reactions involve the interaction between different chemicals, right? But I'm a bit fuzzy on the details, so I should break it down.\n",
      "\n",
      "First, I remember that a chemical reaction involves the transformation of chemical substances into other chemical substances. But what exactly happens in that process? I think it's something to do with atoms and molecules swapping atoms or changing their arrangement. Oh, right, it's called chemical bonding.\n",
      "\n",
      "So, when two or more substances react, they form new substances. But how do I describe that reaction? I think it's written with an arrow, like A → B, where A is the reactant and B is the product. Wait, but sometimes there are multiple reactants and products. For example, in a balanced equation, you have a + b → c + d, where a, b, c, and d are the amounts of each substance.\n",
      "\n",
      "Now, what makes a reaction happen? I remember something about activation energy. The reaction can't happen on its own; it needs a certain amount of energy to start. This is called the activation energy, and it's usually provided by heat, light, or a catalyst. Oh, and catalysts are substances that speed up the reaction without being consumed. That's interesting.\n",
      "\n",
      "I also recall that not all substances react with each other. For example, gold is unreactive under normal conditions. So, reactions only happen between certain substances. But why? It must have something to do with their chemical properties, like electronegativity or the ability to donate or accept electrons.\n",
      "\n",
      "Let me think about a common reaction. The combustion of methane is a chemical reaction. Methane (CH4) reacts with oxygen (O2) to produce carbon dioxide (CO2) and water (H2O). The reaction is written as CH4 + 2O2 → CO2 + 2H2O. Here, methane and oxygen are the reactants, and carbon dioxide and water are the products.\n",
      "\n",
      "Another example is the reaction between acids and bases, like when vinegar reacts with baking soda. Vinegar is acetic acid, and baking soda is sodium bicarbonate. The reaction produces carbon dioxide, water, and sodium acetate. So, it's CH3COOH + NaHCO3 → NaCH3COO + H2O + CO2.\n",
      "\n",
      "I also remember that chemical reactions can be exothermic or endothermic. Exothermic reactions release heat, like the burning of paper, while endothermic reactions absorb heat, such as the dissolution of ammonia in water. These reactions are important in thermodynamics and energy transfer.\n",
      "\n",
      "Wait, but how do I know which reactions are exothermic or endothermic? I think it's related to the change in bond energy. If the bonds in the products are weaker than the reactants, energy is released, making it exothermic. Conversely, if the bonds are stronger, the reaction absorbs energy, making it endothermic.\n",
      "\n",
      "I also wonder about the types of chemical reactions. There are synthesis, decomposition, combustion, and more. For example, synthesis reactions combine elements to form compounds, like iron and sulfur forming FeS. Decomposition reactions break down compounds into simpler substances, like water splitting into hydrogen and oxygen.\n",
      "\n",
      "Combustion reactions involve the combustion of a substance with oxygen, like the burning of hydrocarbons. But not all reactions are combustion; some are single-replacement, double-replacement, or gas reactions. These are the types of chemical reactions based on how the reactants and products are arranged.\n",
      "\n",
      "I should also consider the states of matter involved. Reactions can occur in solid, liquid, gas, or aqueous states. For example, the reaction between calcium chloride and sodium hydroxide is an aqueous solution reaction, producing sodium chloride, calcium hydroxide, and water.\n",
      "\n",
      "Another point is stoichiometry, which deals with the amounts of reactants and products. The balanced chemical equation tells us the mole ratio of substances involved. This is crucial in industries for manufacturing and controlling reactions.\n",
      "\n",
      "But I'm still a bit confused about the difference between physical and chemical changes. Physical changes don't involve new substances, like breaking a glass into pieces. Chemical changes do, like rusting of iron. So, chemical reactions are all about creating new substances from old ones.\n",
      "\n",
      "I also think about real-world applications. Chemical reactions are fundamental in cooking, medicine, manufacturing, and even in everyday processes like photosynthesis. Understanding them helps in solving problems in various fields.\n",
      "\n",
      "So, putting it all together, a chemical reaction is a process where one or more substances react to form new substances. It involves the rearrangement of atoms and molecules, requires energy, and follows specific rules based on the substances involved. The reaction can be represented by a chemical equation, which shows the reactants, products, and the changes in chemical bonds.\n",
      "\n",
      "I might have missed some details, but I think this covers the basics. Maybe I should look up some examples to solidify my understanding, but I feel like I have a good foundation now.\n",
      "</think>\n",
      "\n",
      "A chemical reaction is a process where one or more substances, called reactants, interact to form new substances, known as products. This interaction involves a rearrangement of atoms and molecules, typically accompanied by the release or absorption of energy. The reaction can be represented by a chemical equation, which indicates the reactants, products, and the transformation of chemical bonds. Chemical reactions are categorized based on the types of substances involved and the states of matter, and they play a crucial role in various fields, from cooking to manufacturing.\n"
     ]
    }
   ],
   "source": [
    "print(res.iloc[0].output)"
   ]
  },
  {
   "cell_type": "markdown",
   "id": "12e39e10-ac47-41e9-8555-c631e7abd146",
   "metadata": {},
   "source": [
    "## Improving the Retriever\n",
    "\n",
    "As SearchO1 takes only the top 3 passages, the precision is very important. Lets rerank the top 20 passages using the MonoT5 cross-encoder."
   ]
  },
  {
   "cell_type": "code",
   "execution_count": 10,
   "id": "2a70ecb6-75f1-4d82-a7ec-609323a3cece",
   "metadata": {},
   "outputs": [
    {
     "name": "stderr",
     "output_type": "stream",
     "text": [
      "You are using the default legacy behaviour of the <class 'transformers.models.t5.tokenization_t5.T5Tokenizer'>. This is expected, and simply means that the `legacy` (previous) behavior will be used so nothing changes for you. If you want to use the new behaviour, set `legacy=False`. This should only be set if you understand what it means, and thoroughly read the reason why this was added as explained in https://github.com/huggingface/transformers/pull/24565\n",
      "huggingface/tokenizers: The current process just got forked, after parallelism has already been used. Disabling parallelism to avoid deadlocks...\n",
      "To disable this warning, you can either:\n",
      "\t- Avoid using `tokenizers` before the fork if possible\n",
      "\t- Explicitly set the environment variable TOKENIZERS_PARALLELISM=(true | false)\n"
     ]
    },
    {
     "data": {
      "text/plain": [
       "qid                                                                  1\n",
       "question                                  what are chemical reactions?\n",
       "prompt               You are a reasoning assistant with the ability...\n",
       "output               Okay, so I need to figure out what chemical re...\n",
       "finished                                                          True\n",
       "history              [Okay, so I need to figure out what chemical r...\n",
       "search_count                                                         0\n",
       "search_queries                                                      {}\n",
       "retrieval_results                                                   {}\n",
       "qanswer                                                               \n",
       "Name: 0, dtype: object"
      ]
     },
     "execution_count": 10,
     "metadata": {},
     "output_type": "execute_result"
    }
   ],
   "source": [
    "from pyterrier_t5 import MonoT5ReRanker\n",
    "monoT5 = MonoT5ReRanker()\n",
    "o1_monoT5 = pyterrier_rag.SearchO1(bm25 % 20 >> monoT5, generator)\n",
    "o1_monoT5.search(\"what are chemical reactions?\").iloc[0]"
   ]
  },
  {
   "cell_type": "markdown",
   "id": "f2199ef5-f8ff-4c58-9c88-5ecca3cd25ad",
   "metadata": {},
   "source": [
    "So lets see if using monoT5 quantitively improved the results..."
   ]
  },
  {
   "cell_type": "markdown",
   "id": "1aaacb10-32ea-4f42-a07c-19b126bb1b7c",
   "metadata": {},
   "source": [
    "## Evaluation\n",
    "\n",
    "Now lets run a quick experiment using Natural Questions, comparing our two O1 invocations. I'm also going to add a custom measure to see how many search iterations were used by the two settings."
   ]
  },
  {
   "cell_type": "code",
   "execution_count": 11,
   "id": "e79c6e1b-3c9f-4692-b388-28b02c193df5",
   "metadata": {},
   "outputs": [
    {
     "name": "stderr",
     "output_type": "stream",
     "text": [
      "pt.Experiment:   0%|          | 0/8 [00:00<?, ?batches/s]"
     ]
    },
    {
     "name": "stdout",
     "output_type": "stream",
     "text": [
      "The maximum number of turns 10 is exceeded, stopping...\n",
      "The maximum number of turns 10 is exceeded, stopping...\n"
     ]
    },
    {
     "name": "stderr",
     "output_type": "stream",
     "text": [
      "pt.Experiment:  50%|█████     | 4/8 [25:56<24:43, 370.96s/batches]\n",
      "monoT5:   0%|          | 0/5 [00:00<?, ?batches/s]\u001b[APassing a tuple of `past_key_values` is deprecated and will be removed in Transformers v4.48.0. You should pass an instance of `EncoderDecoderCache` instead, e.g. `past_key_values=EncoderDecoderCache.from_legacy_cache(past_key_values)`.\n",
      "monoT5: 100%|██████████| 5/5 [00:00<00:00, 53.11batches/s]\n",
      "\n",
      "monoT5: 100%|██████████| 5/5 [00:00<00:00, 53.38batches/s]\n",
      "\n",
      "monoT5: 100%|██████████| 5/5 [00:00<00:00, 53.62batches/s]\n",
      "\n",
      "monoT5: 100%|██████████| 5/5 [00:00<00:00, 53.14batches/s]\n",
      "pt.Experiment:  75%|███████▌  | 6/8 [35:38<10:45, 322.88s/batches]\n",
      "monoT5: 100%|██████████| 5/5 [00:00<00:00, 53.71batches/s]\n",
      "\n",
      "monoT5: 100%|██████████| 5/5 [00:00<00:00, 53.96batches/s]\n",
      "pt.Experiment:  88%|████████▊ | 7/8 [40:48<05:18, 318.40s/batches]\n",
      "monoT5: 100%|██████████| 5/5 [00:00<00:00, 53.35batches/s]\n",
      "pt.Experiment: 100%|██████████| 8/8 [44:56<00:00, 337.10s/batches]\n"
     ]
    },
    {
     "data": {
      "text/html": [
       "<div>\n",
       "<style scoped>\n",
       "    .dataframe tbody tr th:only-of-type {\n",
       "        vertical-align: middle;\n",
       "    }\n",
       "\n",
       "    .dataframe tbody tr th {\n",
       "        vertical-align: top;\n",
       "    }\n",
       "\n",
       "    .dataframe thead th {\n",
       "        text-align: right;\n",
       "    }\n",
       "</style>\n",
       "<table border=\"1\" class=\"dataframe\">\n",
       "  <thead>\n",
       "    <tr style=\"text-align: right;\">\n",
       "      <th></th>\n",
       "      <th>name</th>\n",
       "      <th>F1</th>\n",
       "      <th>EM</th>\n",
       "      <th>Iterations</th>\n",
       "    </tr>\n",
       "  </thead>\n",
       "  <tbody>\n",
       "    <tr>\n",
       "      <th>0</th>\n",
       "      <td>O1-search(BM25, Deepseek-R1)</td>\n",
       "      <td>0.211728</td>\n",
       "      <td>0.15</td>\n",
       "      <td>0.23</td>\n",
       "    </tr>\n",
       "    <tr>\n",
       "      <th>1</th>\n",
       "      <td>O1-search(monoT5, Deepseek-R1)</td>\n",
       "      <td>0.221522</td>\n",
       "      <td>0.12</td>\n",
       "      <td>0.07</td>\n",
       "    </tr>\n",
       "  </tbody>\n",
       "</table>\n",
       "</div>"
      ],
      "text/plain": [
       "                      name        F1    EM  Iterations\n",
       "0    O1-search(BM25, Deepseek-R1)  0.211728  0.15        0.23\n",
       "1  O1-search(monoT5, Deepseek-R1)  0.221522  0.12        0.07"
      ]
     },
     "execution_count": 11,
     "metadata": {},
     "output_type": "execute_result"
    }
   ],
   "source": [
    "dataset = pt.get_dataset('rag:nq')\n",
    "from ir_measures import define_byquery\n",
    "Iterations = define_byquery(lambda qrels, run: run.iloc[0].search_count if \"search_count\" in run.columns else 0, name=\"Iterations\")\n",
    "pt.Experiment(\n",
    "    [o1_bm25, o1_monoT5],\n",
    "    dataset.get_topics('dev').head(100), # NB: remove .head(100) to run on all dev topics\n",
    "    dataset.get_answers('dev'),\n",
    "    [pyterrier_rag.measures.F1, pyterrier_rag.measures.EM, Iterations],\n",
    "    batch_size=25,\n",
    "    verbose=True,\n",
    "    names=['O1-search(BM25, Deepseek-R1)', 'O1-search(monoT5, Deepseek-R1)']\n",
    ")"
   ]
  },
  {
   "cell_type": "markdown",
   "id": "dc61b2d0-ceb3-4aeb-a649-64b60f46cfaa",
   "metadata": {},
   "source": [
    "So here, using monoT5 over BM25 improves the answer quality (in terms of F1 but not EM), and slightly reduces the number of search iterations..."
   ]
  },
  {
   "cell_type": "markdown",
   "id": "63677a1d-5c8d-4b58-9d1d-02a48439a9f9",
   "metadata": {},
   "source": [
    "## What about Dense Retrieval?\n",
    "\n",
    "Don't fear, there is a dense index for wiki available.... Instructions coming soon."
   ]
  }
 ],
 "metadata": {
  "kernelspec": {
   "display_name": "Python [conda env:rag]",
   "language": "python",
   "name": "conda-env-rag-py"
  },
  "language_info": {
   "codemirror_mode": {
    "name": "ipython",
    "version": 3
   },
   "file_extension": ".py",
   "mimetype": "text/x-python",
   "name": "python",
   "nbconvert_exporter": "python",
   "pygments_lexer": "ipython3",
   "version": "3.11.11"
  }
 },
 "nbformat": 4,
 "nbformat_minor": 5
}
