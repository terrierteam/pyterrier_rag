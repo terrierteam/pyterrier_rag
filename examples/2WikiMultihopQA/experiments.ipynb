{
 "cells": [
  {
   "cell_type": "markdown",
   "metadata": {},
   "source": [
    "## 2WikiMultihopQA and Fusion-in-Decoder"
   ]
  },
  {
   "cell_type": "code",
   "execution_count": 1,
   "metadata": {},
   "outputs": [],
   "source": [
    "import pyterrier as pt\n",
    "import pyterrier_rag"
   ]
  },
  {
   "cell_type": "markdown",
   "metadata": {},
   "source": [
    "## Fusion in Decoder (FiD)\n",
    "\n",
    "FiD is a reader model that takes passages, encodes them separately with the question (e.g. using T5), and then concatenates the representations for the decoder to generate the answer.\n",
    "\n",
    "Here we use the [`terrierteam/t5fid_base_2wiki`](https://huggingface.co/terrierteam/t5fid_base_2wiki) checkpoint on the Huggingface model repository, which we have fine-tuned for this dataset."
   ]
  },
  {
   "cell_type": "code",
   "execution_count": 2,
   "metadata": {},
   "outputs": [],
   "source": [
    "import pyterrier_rag.readers\n",
    "fid = pyterrier_rag.readers.T5FiD(\"terrierteam/t5fid_base_2wiki\")"
   ]
  },
  {
   "cell_type": "markdown",
   "metadata": {},
   "source": [
    "## 2WikiMultihopQA Dataset\n",
    "\n",
    "We're doing experiments with 2WikiMultihopQA. This dataset comes with passages for each question already, so `dataset.get_topics()` provides their title and text."
   ]
  },
  {
   "cell_type": "code",
   "execution_count": 3,
   "metadata": {},
   "outputs": [
    {
     "name": "stderr",
     "output_type": "stream",
     "text": [
      "Reading 2WikiMultihopQA dev.json: 100%|██████████| 12576/12576 [00:05<00:00, 2265.92it/s]\n"
     ]
    },
    {
     "data": {
      "text/html": [
       "<div>\n",
       "<style scoped>\n",
       "    .dataframe tbody tr th:only-of-type {\n",
       "        vertical-align: middle;\n",
       "    }\n",
       "\n",
       "    .dataframe tbody tr th {\n",
       "        vertical-align: top;\n",
       "    }\n",
       "\n",
       "    .dataframe thead th {\n",
       "        text-align: right;\n",
       "    }\n",
       "</style>\n",
       "<table border=\"1\" class=\"dataframe\">\n",
       "  <thead>\n",
       "    <tr style=\"text-align: right;\">\n",
       "      <th></th>\n",
       "      <th>qid</th>\n",
       "      <th>query</th>\n",
       "      <th>docno</th>\n",
       "      <th>title</th>\n",
       "      <th>text</th>\n",
       "    </tr>\n",
       "  </thead>\n",
       "  <tbody>\n",
       "    <tr>\n",
       "      <th>0</th>\n",
       "      <td>0008d48808a011ebbd78ac1f6bf848b6</td>\n",
       "      <td>Did Frederick Mulder and Earl Mindell have the...</td>\n",
       "      <td>0008d48808a011ebbd78ac1f6bf848b6_00</td>\n",
       "      <td>Mulder and Scully</td>\n",
       "      <td>Mulder and Scully may refer to:</td>\n",
       "    </tr>\n",
       "    <tr>\n",
       "      <th>1</th>\n",
       "      <td>0008d48808a011ebbd78ac1f6bf848b6</td>\n",
       "      <td>Did Frederick Mulder and Earl Mindell have the...</td>\n",
       "      <td>0008d48808a011ebbd78ac1f6bf848b6_01</td>\n",
       "      <td>Mulder and Scully (song)</td>\n",
       "      <td>\" Mulder and Scully\" is a song by Catatonia, r...</td>\n",
       "    </tr>\n",
       "  </tbody>\n",
       "</table>\n",
       "</div>"
      ],
      "text/plain": [
       "                                qid  \\\n",
       "0  0008d48808a011ebbd78ac1f6bf848b6   \n",
       "1  0008d48808a011ebbd78ac1f6bf848b6   \n",
       "\n",
       "                                               query  \\\n",
       "0  Did Frederick Mulder and Earl Mindell have the...   \n",
       "1  Did Frederick Mulder and Earl Mindell have the...   \n",
       "\n",
       "                                 docno                     title  \\\n",
       "0  0008d48808a011ebbd78ac1f6bf848b6_00         Mulder and Scully   \n",
       "1  0008d48808a011ebbd78ac1f6bf848b6_01  Mulder and Scully (song)   \n",
       "\n",
       "                                                text  \n",
       "0                    Mulder and Scully may refer to:  \n",
       "1  \" Mulder and Scully\" is a song by Catatonia, r...  "
      ]
     },
     "execution_count": 3,
     "metadata": {},
     "output_type": "execute_result"
    }
   ],
   "source": [
    "dataset = pt.get_dataset('rag:2wikimultihopqa')\n",
    "dev_answers = dataset.get_answers('dev')\n",
    "dev_docs = dataset.get_topics('dev')\n",
    "dev_docs.head(2)"
   ]
  },
  {
   "cell_type": "code",
   "execution_count": 4,
   "metadata": {},
   "outputs": [
    {
     "name": "stdout",
     "output_type": "stream",
     "text": [
      "Average nbr of passages per query: 10.0\n",
      "Average passage length (chars): 355.1587070610687\n"
     ]
    }
   ],
   "source": [
    "print(\"Average nbr of passages per query:\", dev_docs.groupby('qid').count().mean()['text'])\n",
    "print(\"Average passage length (chars):\", dev_docs['text'].str.len().mean())"
   ]
  },
  {
   "cell_type": "markdown",
   "metadata": {},
   "source": [
    "We can try out FiD model on one of the test queries..., for instance id 0008d48808a011ebbd78ac1f6bf848b6, just by passing the dataframe for that query into the `fid` transformer."
   ]
  },
  {
   "cell_type": "code",
   "execution_count": 5,
   "metadata": {},
   "outputs": [
    {
     "data": {
      "text/html": [
       "<div>\n",
       "<style scoped>\n",
       "    .dataframe tbody tr th:only-of-type {\n",
       "        vertical-align: middle;\n",
       "    }\n",
       "\n",
       "    .dataframe tbody tr th {\n",
       "        vertical-align: top;\n",
       "    }\n",
       "\n",
       "    .dataframe thead th {\n",
       "        text-align: right;\n",
       "    }\n",
       "</style>\n",
       "<table border=\"1\" class=\"dataframe\">\n",
       "  <thead>\n",
       "    <tr style=\"text-align: right;\">\n",
       "      <th></th>\n",
       "      <th>qid</th>\n",
       "      <th>query</th>\n",
       "      <th>qanswer</th>\n",
       "    </tr>\n",
       "  </thead>\n",
       "  <tbody>\n",
       "    <tr>\n",
       "      <th>0</th>\n",
       "      <td>e2a3bf2a0bdd11eba7f7acde48001122</td>\n",
       "      <td>When did John V, Prince Of Anhalt-Zerbst's fat...</td>\n",
       "      <td>12 June 1516</td>\n",
       "    </tr>\n",
       "  </tbody>\n",
       "</table>\n",
       "</div>"
      ],
      "text/plain": [
       "                                qid  \\\n",
       "0  e2a3bf2a0bdd11eba7f7acde48001122   \n",
       "\n",
       "                                               query       qanswer  \n",
       "0  When did John V, Prince Of Anhalt-Zerbst's fat...  12 June 1516  "
      ]
     },
     "execution_count": 5,
     "metadata": {},
     "output_type": "execute_result"
    }
   ],
   "source": [
    "fid(dev_docs.query('qid == \"e2a3bf2a0bdd11eba7f7acde48001122\"'))"
   ]
  },
  {
   "cell_type": "markdown",
   "metadata": {},
   "source": [
    "Lets see how we did....  - right century, but not quite there."
   ]
  },
  {
   "cell_type": "code",
   "execution_count": 6,
   "metadata": {},
   "outputs": [
    {
     "data": {
      "text/html": [
       "<div>\n",
       "<style scoped>\n",
       "    .dataframe tbody tr th:only-of-type {\n",
       "        vertical-align: middle;\n",
       "    }\n",
       "\n",
       "    .dataframe tbody tr th {\n",
       "        vertical-align: top;\n",
       "    }\n",
       "\n",
       "    .dataframe thead th {\n",
       "        text-align: right;\n",
       "    }\n",
       "</style>\n",
       "<table border=\"1\" class=\"dataframe\">\n",
       "  <thead>\n",
       "    <tr style=\"text-align: right;\">\n",
       "      <th></th>\n",
       "      <th>qid</th>\n",
       "      <th>type</th>\n",
       "      <th>gold_answer</th>\n",
       "    </tr>\n",
       "  </thead>\n",
       "  <tbody>\n",
       "    <tr>\n",
       "      <th>2</th>\n",
       "      <td>e2a3bf2a0bdd11eba7f7acde48001122</td>\n",
       "      <td>compositional</td>\n",
       "      <td>12 June 1516</td>\n",
       "    </tr>\n",
       "  </tbody>\n",
       "</table>\n",
       "</div>"
      ],
      "text/plain": [
       "                                qid           type   gold_answer\n",
       "2  e2a3bf2a0bdd11eba7f7acde48001122  compositional  12 June 1516"
      ]
     },
     "execution_count": 6,
     "metadata": {},
     "output_type": "execute_result"
    }
   ],
   "source": [
    "dev_answers.query('qid == \"e2a3bf2a0bdd11eba7f7acde48001122\"')"
   ]
  },
  {
   "cell_type": "markdown",
   "metadata": {},
   "source": [
    "# pt.Experiment\n",
    "\n",
    "Finally, lets evaluate FiD in terms of F1 and EM%. We provide pt.Experiment with \n",
    "1. The system(s) to evaluate\n",
    "2. The input to FiD - i.e. the questions and pasages dataframe\n",
    "3. The gold answers dataframe\n",
    "4. The measures we'd like to calculate"
   ]
  },
  {
   "cell_type": "markdown",
   "metadata": {},
   "source": [
    "First though, lets cutdown the dataset a little in order to speed up experiments - say only 100 questions with gold answers."
   ]
  },
  {
   "cell_type": "code",
   "execution_count": 7,
   "metadata": {},
   "outputs": [],
   "source": [
    "dev_answers = dev_answers.head(100)\n",
    "dev_docs = dev_docs.merge(dev_answers[['qid']])"
   ]
  },
  {
   "cell_type": "code",
   "execution_count": 8,
   "metadata": {},
   "outputs": [
    {
     "name": "stderr",
     "output_type": "stream",
     "text": [
      "pt.Experiment: 100%|██████████| 1/1 [00:11<00:00, 11.00s/system]\n"
     ]
    },
    {
     "data": {
      "text/html": [
       "<div>\n",
       "<style scoped>\n",
       "    .dataframe tbody tr th:only-of-type {\n",
       "        vertical-align: middle;\n",
       "    }\n",
       "\n",
       "    .dataframe tbody tr th {\n",
       "        vertical-align: top;\n",
       "    }\n",
       "\n",
       "    .dataframe thead th {\n",
       "        text-align: right;\n",
       "    }\n",
       "</style>\n",
       "<table border=\"1\" class=\"dataframe\">\n",
       "  <thead>\n",
       "    <tr style=\"text-align: right;\">\n",
       "      <th></th>\n",
       "      <th>name</th>\n",
       "      <th>F1</th>\n",
       "      <th>EM%</th>\n",
       "    </tr>\n",
       "  </thead>\n",
       "  <tbody>\n",
       "    <tr>\n",
       "      <th>0</th>\n",
       "      <td>fid</td>\n",
       "      <td>0.746075</td>\n",
       "      <td>0.66</td>\n",
       "    </tr>\n",
       "  </tbody>\n",
       "</table>\n",
       "</div>"
      ],
      "text/plain": [
       "  name        F1   EM%\n",
       "0  fid  0.746075  0.66"
      ]
     },
     "execution_count": 8,
     "metadata": {},
     "output_type": "execute_result"
    }
   ],
   "source": [
    "pt.Experiment(\n",
    "    [fid],\n",
    "    dev_docs,\n",
    "    dev_answers,\n",
    "    [pyterrier_rag.measures.F1, pyterrier_rag.measures.EM], \n",
    "    names=['fid'], verbose=True\n",
    ")"
   ]
  }
 ],
 "metadata": {
  "kernelspec": {
   "display_name": "Python 3 (ipykernel)",
   "language": "python",
   "name": "python3"
  },
  "language_info": {
   "codemirror_mode": {
    "name": "ipython",
    "version": 3
   },
   "file_extension": ".py",
   "mimetype": "text/x-python",
   "name": "python",
   "nbconvert_exporter": "python",
   "pygments_lexer": "ipython3",
   "version": "3.10.13"
  }
 },
 "nbformat": 4,
 "nbformat_minor": 4
}
