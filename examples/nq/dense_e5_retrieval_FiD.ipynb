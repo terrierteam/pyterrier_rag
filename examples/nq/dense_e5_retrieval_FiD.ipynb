{
 "cells": [
  {
   "cell_type": "markdown",
   "metadata": {
    "id": "g_o70WfKQFTd"
   },
   "source": [
    "# Dense Retrieval for Natural Questions RAG\n",
    "\n",
    "This notebook demonstrates [PyTerrier](http://github.com/terrier-org/pyterrier) and PyTerrier-RAG. This notebooks runs on Google Colab with a (free) T4 GPU, but requires 60GB disk space (which is very tight; not all Colab instances have that much)."
   ]
  },
  {
   "cell_type": "markdown",
   "metadata": {
    "id": "w6iZau7_QP9v"
   },
   "source": [
    "## Installation\n",
    "\n",
    "Lets install what we need:\n",
    " - PyTerrier - core platform\n",
    " - PyTerrier_t5 - MonoT5 reranker\n",
    " - PyTerrier_dr - dense (biencoder) retrieval\n",
    " - pyterrier_rag - Support for RAG datasets and answer generators (aka readers)"
   ]
  },
  {
   "cell_type": "code",
   "execution_count": 1,
   "metadata": {
    "colab": {
     "base_uri": "https://localhost:8080/"
    },
    "id": "uatJzx1kQ7_J",
    "outputId": "ea25707c-9540-4690-bb46-864b0398499a"
   },
   "outputs": [],
   "source": [
    "#%pip install -q python-terrier pyterrier_t5 pyterrier_dr"
   ]
  },
  {
   "cell_type": "code",
   "execution_count": 2,
   "metadata": {
    "colab": {
     "base_uri": "https://localhost:8080/"
    },
    "id": "yvFoJULYRAqq",
    "outputId": "5e90fa8b-d2f0-44d6-eb96-848e9eaf0e9b"
   },
   "outputs": [],
   "source": [
    "#%pip install -q pyterrier-rag"
   ]
  },
  {
   "cell_type": "code",
   "execution_count": 3,
   "metadata": {
    "id": "kHFMfW1uPZhS"
   },
   "outputs": [],
   "source": [
    "import pyterrier as pt\n",
    "pt.utils.set_tqdm('notebook')"
   ]
  },
  {
   "cell_type": "markdown",
   "metadata": {
    "id": "KrI7rYO4Qeb2"
   },
   "source": [
    "## Retrievers\n",
    "\n",
    "Lets load a dense index of Wikipedia. Conveniently, we've stored this as a [Huggingface dataset](https://huggingface.co/datasets/pyterrier/ragwiki-terrier). This is 60GB in size (it also contains the text of the documents) - downloading takes about 1 hour on Google Colab.\n",
    "\n",
    "We'll also need a sparse index, to load the content of the documents.\n",
    "\n",
    "Finally, lets make a monoT5 reranker, we can use that to rerank BM25,\n"
   ]
  },
  {
   "cell_type": "code",
   "execution_count": 4,
   "metadata": {
    "colab": {
     "base_uri": "https://localhost:8080/",
     "height": 519,
     "referenced_widgets": [
      "cdf6a56222ac4565b337ff5fccaac5a9",
      "f7d7aa6957774a22bb4836be33354308",
      "80867a6e185946f0bb1a3d72ffa6421a",
      "3822c92d2e2d415c895f3f3f2fbe1479",
      "409676547fd146d2af00b39de46240b7",
      "207c5deb6ef940bfa945c6284c70dd4f",
      "d4383754990f4e129f476c5fd49a0b4d",
      "64db759969514d7ea1bda4018909e397",
      "25898a520c694cbe9c6043a06dadbd4d",
      "398940aa0d38453193b03155a0eeac2a",
      "204c6e79cff44cf39963828e5a81eb11",
      "f240c355c6ec474095d23236fb88d2b2",
      "0c6c7c259d444a83b8d4a8212a6928b8",
      "4036af8bcbca4413a7bc902d76bc119a",
      "df1c4511ea4a4904bf46cc23bc22d479",
      "e8b457d8d36e41b2952162ef28f04a00",
      "c7e73147d2da4fb78466bd82a24830e3",
      "f8d63e9094f8432ebb95f75e5822b95b",
      "8096042ee0b54ec1a2f064eaac6b77fa",
      "fa80ed4da5ae4a399d7583290649d127",
      "462c9e55ebe94eabaf37f0150b1237f6",
      "9d0296b0b0e84fe68a788e93372c76e2",
      "0c453929fe494432aec8f59ba2820ec2",
      "eb4afaa9f5be4b07b26356cac9a9d556",
      "48b03c02bf484686b27ec7af472a61d5",
      "d8218f255ffb4e99be63d8d501ab3d07",
      "fd90549abb6249ab845e0b97e3351750",
      "df7e91e7a187422eaacbe03f6b83082a",
      "fce7956d668f4cba8b372175ae2cddf4",
      "49f67db85381459797a4ba727f55530e",
      "50e159e8c146469cbafef8629fd3e57c",
      "fe609c0a549f4b3f9e1bb2dced79ac5c",
      "e1b902230f1a48a5ac3c16a26b8537e4",
      "85006ebc5a6144519127d83e465a41e4",
      "5677f8cb7999463a80a87458674945ef",
      "84d414dc0bdd4e95b9ea4c36cb8f4a72",
      "d3a4f9dddf8f4eda99fe87fb194d5939",
      "742e5b7de943457ab166dc0786e8d881",
      "3abbe92f03524bb6b9f05c7f4fab6179",
      "3f7207a152244494869efb9aa4918b83",
      "e8d9f0f5ce4b4a878e94bccccba5251d",
      "e43dce7ab20c4491a9d853ca8bec3179",
      "380ae3598f014a1b8bd331321673c0a6",
      "7c3ed3586455493c8f537baa0065e357",
      "267352f0f3d94faba3d567322eb00450",
      "30f6f408097f46279f74eb918a65897a",
      "823589a731874f91a37da3d4e0befaa4",
      "7063146f0a214481a96906e123183374",
      "cc6bbae8a41f4b5aad8cad767a812f11",
      "2cd01f62b6714adbbb04fa74dc94c2b7",
      "dc2511e0f49b476f8f1a277a4310a10b",
      "6d78bb67dda04676aeb9c30633ee30e5",
      "4a46f4f63f4245d1a2be83a11105ce2a",
      "1d6820470ab44b14a9268a2bf0273c26",
      "106006e2c80247aa9e4d1b6a220eea5a",
      "1027912e411748d88d33e69ecce646ee",
      "1d80dc80374f45ecb6f5adf34cd4ad53",
      "cd4a97ee534d496683ba4e46e9cbc3ee",
      "df9b2d6eff5c4bb9a647a04404c1bed2",
      "d6f8cfd002434153aa764b68c504fd2c",
      "4914024d95cd47b8b965e4f5169c3e37",
      "cc8ebe8686454088a669fa08bf871108",
      "5964391f5a9c4a809836c1fa93010eb0",
      "f0a3233917d14284b38360b482c09a2e",
      "57780b6902a145d3ac582cdc8078aba8",
      "f416f548034b4e33b95c4bbbeed9ef8c",
      "ef52c5b679bc4e4d9bf9bcaa8a08a7ff",
      "640cd8d25487494b8e321b218c2d8203",
      "5e69ebba46154cf2a684ac8c6323b7b0",
      "923552b24eab4d979fee52761d396cad",
      "74023ad72c7849308b77295ba9f3b721",
      "ec93c566cc934c09998c05439be4b33c",
      "7f8914a614fb4da0b9d5a12c5818fb06",
      "58af79a7c7cb42949074c246d4819722",
      "535ca62af14843d29ef204f4147fb98c",
      "9014211d572d4062a2bbf00c2cb8bc9c",
      "38fef8fc8f7f41ed9bec96d7e18aa819",
      "584495c5960345f581108f186c015803",
      "d39c3b39b58a4679bb8cc06399acc4f7",
      "1b56ddad0f184c64a98482caaab568f9",
      "355eca7f5a9c4871a8e89fd1561c20d3",
      "bf78312a09484fa0a7a5a5affa738ae4",
      "6f78e12b8ae7432a9b506a2c072c9f17",
      "2f86d2230dff4310ac952f52eb12707a",
      "5ed0adea25244e7690f26da7c670e6d0",
      "eb34a210b2a44116ad3a54ad92b76ce5",
      "38797ca31506448d9c1b7c60182b6cfb",
      "85e9a260f9344a538456a6ebca00f255",
      "d9ce39bcdad54f9c8d1c69b41b2d4657",
      "f1b4527fa0694438bab7fb771005eef9",
      "716fcb8ff6dd4fb2ae26587e6825a0f7",
      "5beedde974934026bfe1bd1de2414e42",
      "eacee2722b634c78bcd4e8107c427485",
      "06285eda3327469a8afce0f4add9bfb4",
      "aa18c585313d40a4839865a8849376e5",
      "f8bf164197ad4eec913ec1cee090b436",
      "07ab2fae710943408c94dfb947874e1d",
      "e5dda53300c24bb6821c2eac33a59f02",
      "7a7916bd34ad466cbd9af853a59dfd09",
      "6c377f0979bb4adeac29472d7015ae3a",
      "16481fbc74c64936a86c53185c5f9c37",
      "f8c20788698c46e786a7b19d713b3008",
      "a0b8716d42bc457cb457f868d9bcbcc0",
      "e61f65958ea54172b067737fba41430d",
      "584923d00cd5433e9c85e39a6e94822f",
      "4c0b2e83c98f4150a5424ccf63c2e454",
      "9668c07e314a41f28438ab67f9f44990",
      "702d6d2036d6438097b5fa1e6045d913",
      "cbdd9288dc9c472fabfe267fee478fb5",
      "909086f1da8f4ddb939cc7f2a39f9871",
      "f98db0db5d4642d7871c4bd8ca956e58",
      "199b69ca2d254a309cdd226004a4306d",
      "8b45445d00cd4bb79c18f30add57ac50",
      "c1507340b1de4f69b787529294a91405",
      "7b978d3aab344f86a3886b4b2e589f15",
      "0eedcd12166745e9b83092209a34c24f",
      "041fd09ce05e4604b87c6bd06c12d078",
      "6a37249d6ef540fc9690c15bd683cc50",
      "67cc13d983534739be3e7f4fe9c3bbe1",
      "02d999807f7349f0b71b6c21545fe164",
      "389b9e3f32cb4f46bdfa9163724673bc",
      "391f3dce90b8408eb03cc9f597d26203",
      "088027e3bfac45f086438bacce78c532",
      "84b8130f9e434a39abe08ebe9cd63cf8",
      "1dafe1f4a392417cbb24f2905be9c16a",
      "c948a1cbc6f142658a5e05f06db4c6dd",
      "0614c468885a448685e7cfcc067d7d08",
      "19ce3fabd53d4d8b907be0221153e309",
      "e64d4712b662443c8316dc38c7629993",
      "8c4544ef2a924477b882c7c48fc3f99f",
      "44b748e3a3094bf38c1fb9b800fc0a3e",
      "1804345b5f8a498287f51b0231d0a2d3",
      "ee2920ad8d504822af3a14a0938f6f56",
      "d7f742acde79489aba5e3e0cfae3cab7",
      "02494a00b8e3413384b40f88118b11dc",
      "eb6ca9470ad8429d95f82906494ba324",
      "95ed14b4d1524d3bbc1f1cba163b4488",
      "59417f36bcc24aca8fef538c98edc563",
      "d4c49e37d43244bfae1f908fc543f178",
      "94a54d58104c485aaf2af1402878dc6b",
      "1f9b949f1e144e6ba006b7020e3e348e",
      "cdfc4101f2754ed3826a3415bfdfa077",
      "fe8eed0bc72d4c2b9e89ad1e764db873",
      "4df2ce34439f43b4955039d0ce371014",
      "98200244b2e44559b25b55325efa5ae0",
      "7252095a4f464722b579974178a4cc19",
      "6912d5f6cd0449c1ac3dc85501b1f730",
      "6c5b00bb4eb3454db2dc6e26317551ba",
      "90e7bd278843454289d681c3f23f4077",
      "f6be630234154bfa852c4d4cd7642e8f",
      "58bc84168fdb438dbfead59a71337e77",
      "184de16961c84f22bee7e2314d4570ef",
      "e50d16fb26914a8ab3c55c02d00bc60d",
      "95b686b6f28e44428e0c09d604d9fbba"
     ]
    },
    "id": "4-OCzXsQtT5V",
    "outputId": "5c90d441-6796-484e-d52b-c74c81fdb70f"
   },
   "outputs": [],
   "source": [
    "e5_index = pt.Artifact.from_hf('pyterrier/ragwiki-e5.flex')"
   ]
  },
  {
   "cell_type": "code",
   "execution_count": 5,
   "metadata": {
    "colab": {
     "base_uri": "https://localhost:8080/",
     "height": 498,
     "referenced_widgets": [
      "fffdce22cfad4ea3bb5f73aad26939ef",
      "a3e4ba6ebd6c42588814e7aa8c1465dd",
      "6c9390c4cf1c489b88f98fb25a2727dd",
      "2cf89c3b8a504f459aff1f587544409a",
      "d8b3bf01c121400293fb1e9947f795c2",
      "edababbfb68d482ca7e413ac470dc233",
      "6ca741e803194585aa1d1a5ef9f1f65a",
      "47e085add9a846e68ec77980962726de",
      "308e4ee4c85d45e6a68e261950ff6559",
      "0ffef7b3fef74bb8b3e0ccf1bfffe3a4",
      "d6c8b6858c434450a1366a558ca09041",
      "2c9fa8da08e94e058d6c846ba1891d6d",
      "cc7d977a9cb9457e9ce32f8ad0c34afa",
      "82c9d3e62e194c518828ae8698800416",
      "d1a2559a249e40edbcc2e3f2ef78a09d",
      "71a7647356c947d69f8420623947d6ef"
     ]
    },
    "id": "BybUPDh6Qy33",
    "outputId": "1f9b1789-e756-45fb-a426-d0bffb58f7f0"
   },
   "outputs": [
    {
     "name": "stderr",
     "output_type": "stream",
     "text": [
      "You are using the default legacy behaviour of the <class 'transformers.models.t5.tokenization_t5.T5Tokenizer'>. This is expected, and simply means that the `legacy` (previous) behavior will be used so nothing changes for you. If you want to use the new behaviour, set `legacy=False`. This should only be set if you understand what it means, and thoroughly read the reason why this was added as explained in https://github.com/huggingface/transformers/pull/24565\n"
     ]
    }
   ],
   "source": [
    "from pyterrier_t5 import MonoT5ReRanker\n",
    "\n",
    "sparse_index = pt.Artifact.from_hf('pyterrier/ragwiki-terrier')\n",
    "monoT5 = MonoT5ReRanker(batch_size=64, verbose=False)"
   ]
  },
  {
   "cell_type": "markdown",
   "metadata": {
    "id": "5j2yqwJ-RJXJ"
   },
   "source": [
    "\n",
    "Lets formulate our ranking pipelines (1) a plain E5 dense retrieval, which we decorate with the title and text; (2) the same pipeline with monoT5. \n",
    "\n",
    "Here we are using two PyTerrier operators to make a pipeline:\n",
    " - `%` - apply a rank cutoff to the left.\n",
    " - `>>` - compose (aka. then), which means apply the right handside on the output of the left hand side."
   ]
  },
  {
   "cell_type": "code",
   "execution_count": 6,
   "metadata": {
    "colab": {
     "base_uri": "https://localhost:8080/",
     "height": 341,
     "referenced_widgets": [
      "976afd8743cb4fb9854deb5d7a7c615f",
      "ca23eb200b1e4fda8a1525d913a78808",
      "0f97b8a8b6e44c80916e7c847486eed5",
      "72666c159f3e4b839493ec78e3730014",
      "a0d95c13a0a34e3e84b465ef3d65abf8",
      "b3158d29975b49b0aa81a026065799fa",
      "62c5e2fcf8ba4142b0794e717c9717da",
      "712e30297291425f85dfc2544df9ec06",
      "f59e463a647e49c18811be5cd1af81fb",
      "5ff606d470ec4ad694b741445af9e28f"
     ]
    },
    "id": "5cMn5JvMRItr",
    "outputId": "9938a958-9402-43f7-e580-2429b67d5f45"
   },
   "outputs": [
    {
     "name": "stderr",
     "output_type": "stream",
     "text": [
      "Java started (triggered by TerrierIndex.index_ref) and loaded: pyterrier.java, pyterrier.terrier.java [version=5.11 (build: craig.macdonald 2025-01-13 21:29), helper_version=0.0.8]\n"
     ]
    }
   ],
   "source": [
    "from pyterrier_dr import E5\n",
    "\n",
    "e5_query_encoder = E5()\n",
    "e5_ret = e5_query_encoder >> e5_index.np_retriever(batch_size=4096) >> sparse_index.text_loader([\"title\", \"text\"])\n",
    "monoT5_ret =  e5_query_encoder >> e5_index.np_retriever(batch_size=4096) % 10 >> sparse_index.text_loader([\"title\", \"text\"]) >> monoT5"
   ]
  },
  {
   "cell_type": "markdown",
   "metadata": {
    "id": "Ns_W7XucRmew"
   },
   "source": [
    "Lets compare the results..."
   ]
  },
  {
   "cell_type": "code",
   "execution_count": 15,
   "metadata": {
    "colab": {
     "base_uri": "https://localhost:8080/",
     "height": 213,
     "referenced_widgets": [
      "7b67cb0dc22d4861be15a6bf24835f72"
     ]
    },
    "id": "S8idFu1bRfh6",
    "outputId": "610916e4-68e2-4e58-8f2c-5b32ec6eab25"
   },
   "outputs": [
    {
     "data": {
      "application/vnd.jupyter.widget-view+json": {
       "model_id": "a73666f3842f4f5783c5e45ef0df03c2",
       "version_major": 2,
       "version_minor": 0
      },
      "text/plain": [
       "NumpyRetriever scoring:   0%|          | 0/5131 [00:00<?, ?docbatch/s]"
      ]
     },
     "metadata": {},
     "output_type": "display_data"
    },
    {
     "data": {
      "text/html": [
       "<div>\n",
       "<style scoped>\n",
       "    .dataframe tbody tr th:only-of-type {\n",
       "        vertical-align: middle;\n",
       "    }\n",
       "\n",
       "    .dataframe tbody tr th {\n",
       "        vertical-align: top;\n",
       "    }\n",
       "\n",
       "    .dataframe thead th {\n",
       "        text-align: right;\n",
       "    }\n",
       "</style>\n",
       "<table border=\"1\" class=\"dataframe\">\n",
       "  <thead>\n",
       "    <tr style=\"text-align: right;\">\n",
       "      <th></th>\n",
       "      <th>qid</th>\n",
       "      <th>query</th>\n",
       "      <th>query_vec</th>\n",
       "      <th>docno</th>\n",
       "      <th>docid</th>\n",
       "      <th>score</th>\n",
       "      <th>rank</th>\n",
       "      <th>title</th>\n",
       "      <th>text</th>\n",
       "    </tr>\n",
       "  </thead>\n",
       "  <tbody>\n",
       "    <tr>\n",
       "      <th>0</th>\n",
       "      <td>1</td>\n",
       "      <td>What are chemical reactions?</td>\n",
       "      <td>[-0.018842425, 0.0220169, -0.061589867, 0.0121...</td>\n",
       "      <td>860125</td>\n",
       "      <td>860125</td>\n",
       "      <td>0.883790</td>\n",
       "      <td>0</td>\n",
       "      <td>\"Chemical reaction\"</td>\n",
       "      <td>Chemical reaction A chemical reaction is a pro...</td>\n",
       "    </tr>\n",
       "    <tr>\n",
       "      <th>1</th>\n",
       "      <td>1</td>\n",
       "      <td>What are chemical reactions?</td>\n",
       "      <td>[-0.018842425, 0.0220169, -0.061589867, 0.0121...</td>\n",
       "      <td>12495298</td>\n",
       "      <td>12495298</td>\n",
       "      <td>0.882468</td>\n",
       "      <td>1</td>\n",
       "      <td>\"Chemical reaction\"</td>\n",
       "      <td>redistribution of substances in the human body...</td>\n",
       "    </tr>\n",
       "    <tr>\n",
       "      <th>2</th>\n",
       "      <td>1</td>\n",
       "      <td>What are chemical reactions?</td>\n",
       "      <td>[-0.018842425, 0.0220169, -0.061589867, 0.0121...</td>\n",
       "      <td>53321</td>\n",
       "      <td>53321</td>\n",
       "      <td>0.876791</td>\n",
       "      <td>2</td>\n",
       "      <td>\"Chemical reaction\"</td>\n",
       "      <td>are called reactants or reagents. Chemical rea...</td>\n",
       "    </tr>\n",
       "  </tbody>\n",
       "</table>\n",
       "</div>"
      ],
      "text/plain": [
       "  qid                         query  \\\n",
       "0   1  What are chemical reactions?   \n",
       "1   1  What are chemical reactions?   \n",
       "2   1  What are chemical reactions?   \n",
       "\n",
       "                                           query_vec     docno     docid  \\\n",
       "0  [-0.018842425, 0.0220169, -0.061589867, 0.0121...    860125    860125   \n",
       "1  [-0.018842425, 0.0220169, -0.061589867, 0.0121...  12495298  12495298   \n",
       "2  [-0.018842425, 0.0220169, -0.061589867, 0.0121...     53321     53321   \n",
       "\n",
       "      score  rank                title  \\\n",
       "0  0.883790     0  \"Chemical reaction\"   \n",
       "1  0.882468     1  \"Chemical reaction\"   \n",
       "2  0.876791     2  \"Chemical reaction\"   \n",
       "\n",
       "                                                text  \n",
       "0  Chemical reaction A chemical reaction is a pro...  \n",
       "1  redistribution of substances in the human body...  \n",
       "2  are called reactants or reagents. Chemical rea...  "
      ]
     },
     "execution_count": 15,
     "metadata": {},
     "output_type": "execute_result"
    }
   ],
   "source": [
    "(e5_ret%3).search(\"What are chemical reactions?\")"
   ]
  },
  {
   "cell_type": "code",
   "execution_count": 14,
   "metadata": {
    "colab": {
     "base_uri": "https://localhost:8080/",
     "height": 35,
     "referenced_widgets": [
      "cb55d10cb7ff432eb6258fddc9a5192a"
     ]
    },
    "id": "WZRtspglRkbL",
    "outputId": "9141db03-06bf-41dd-bde3-0cbfa7eac99b"
   },
   "outputs": [
    {
     "data": {
      "application/vnd.jupyter.widget-view+json": {
       "model_id": "4d3b6d4486c34424b7b639475b5746da",
       "version_major": 2,
       "version_minor": 0
      },
      "text/plain": [
       "NumpyRetriever scoring:   0%|          | 0/5131 [00:00<?, ?docbatch/s]"
      ]
     },
     "metadata": {},
     "output_type": "display_data"
    },
    {
     "data": {
      "text/html": [
       "<div>\n",
       "<style scoped>\n",
       "    .dataframe tbody tr th:only-of-type {\n",
       "        vertical-align: middle;\n",
       "    }\n",
       "\n",
       "    .dataframe tbody tr th {\n",
       "        vertical-align: top;\n",
       "    }\n",
       "\n",
       "    .dataframe thead th {\n",
       "        text-align: right;\n",
       "    }\n",
       "</style>\n",
       "<table border=\"1\" class=\"dataframe\">\n",
       "  <thead>\n",
       "    <tr style=\"text-align: right;\">\n",
       "      <th></th>\n",
       "      <th>qid</th>\n",
       "      <th>query</th>\n",
       "      <th>query_vec</th>\n",
       "      <th>docno</th>\n",
       "      <th>docid</th>\n",
       "      <th>title</th>\n",
       "      <th>text</th>\n",
       "      <th>score</th>\n",
       "      <th>rank</th>\n",
       "    </tr>\n",
       "  </thead>\n",
       "  <tbody>\n",
       "    <tr>\n",
       "      <th>0</th>\n",
       "      <td>1</td>\n",
       "      <td>What are chemical reactions?</td>\n",
       "      <td>[-0.018842425, 0.0220169, -0.061589867, 0.0121...</td>\n",
       "      <td>860125</td>\n",
       "      <td>860125</td>\n",
       "      <td>\"Chemical reaction\"</td>\n",
       "      <td>Chemical reaction A chemical reaction is a pro...</td>\n",
       "      <td>-0.031418</td>\n",
       "      <td>0</td>\n",
       "    </tr>\n",
       "    <tr>\n",
       "      <th>1</th>\n",
       "      <td>1</td>\n",
       "      <td>What are chemical reactions?</td>\n",
       "      <td>[-0.018842425, 0.0220169, -0.061589867, 0.0121...</td>\n",
       "      <td>12495298</td>\n",
       "      <td>12495298</td>\n",
       "      <td>\"Chemical reaction\"</td>\n",
       "      <td>redistribution of substances in the human body...</td>\n",
       "      <td>-0.066888</td>\n",
       "      <td>1</td>\n",
       "    </tr>\n",
       "    <tr>\n",
       "      <th>2</th>\n",
       "      <td>1</td>\n",
       "      <td>What are chemical reactions?</td>\n",
       "      <td>[-0.018842425, 0.0220169, -0.061589867, 0.0121...</td>\n",
       "      <td>53321</td>\n",
       "      <td>53321</td>\n",
       "      <td>\"Chemical reaction\"</td>\n",
       "      <td>are called reactants or reagents. Chemical rea...</td>\n",
       "      <td>-0.080431</td>\n",
       "      <td>2</td>\n",
       "    </tr>\n",
       "  </tbody>\n",
       "</table>\n",
       "</div>"
      ],
      "text/plain": [
       "  qid                         query  \\\n",
       "0   1  What are chemical reactions?   \n",
       "1   1  What are chemical reactions?   \n",
       "2   1  What are chemical reactions?   \n",
       "\n",
       "                                           query_vec     docno     docid  \\\n",
       "0  [-0.018842425, 0.0220169, -0.061589867, 0.0121...    860125    860125   \n",
       "1  [-0.018842425, 0.0220169, -0.061589867, 0.0121...  12495298  12495298   \n",
       "2  [-0.018842425, 0.0220169, -0.061589867, 0.0121...     53321     53321   \n",
       "\n",
       "                 title                                               text  \\\n",
       "0  \"Chemical reaction\"  Chemical reaction A chemical reaction is a pro...   \n",
       "1  \"Chemical reaction\"  redistribution of substances in the human body...   \n",
       "2  \"Chemical reaction\"  are called reactants or reagents. Chemical rea...   \n",
       "\n",
       "      score  rank  \n",
       "0 -0.031418     0  \n",
       "1 -0.066888     1  \n",
       "2 -0.080431     2  "
      ]
     },
     "execution_count": 14,
     "metadata": {},
     "output_type": "execute_result"
    }
   ],
   "source": [
    "(monoT5_ret%3).search(\"What are chemical reactions?\")"
   ]
  },
  {
   "cell_type": "markdown",
   "metadata": {},
   "source": [
    "**NB:** that we're using `.np_retriever()` here - `.torch_retriever()` might be faster, but we'd need more GPU memory. There are also `.faiss_ivf_retriever()` or `.faiss_hnsw_retriever()` which would likely be faster... see the [PyTerrier_DR's FlexIndex documentation](https://pyterrier.readthedocs.io/en/latest/ext/pyterrier-dr/indexing-retrieval.html).\n",
    "\n"
   ]
  },
  {
   "cell_type": "markdown",
   "metadata": {
    "id": "CuYGD1c4RCdx"
   },
   "source": [
    "## Readers\n",
    "\n",
    "### Fusion in Decoder\n",
    "\n",
    "Lets now see the readers that will generate the answers. The first one we use is Fusion in Decoder - a T5-based model that encodes each document separately, but combines these representations in the decoder step.\n",
    "\n",
    "In PyTerrier terms, a reader takes as input the following columns:\n",
    " - qid\n",
    " - query\n",
    " - docno\n",
    " - title & text\n",
    "\n",
    "And returns:\n",
    " - qid\n",
    " - query\n",
    " - qanswer\n",
    "\n",
    "We provide a checkpoint trained for NQ on Huggingface at `terrierteam/t5fid_base_nq`.\n",
    "\n",
    "We further formulate two RAG pipelines - one using BM25 and one using monoT5 as input to FiD."
   ]
  },
  {
   "cell_type": "code",
   "execution_count": 9,
   "metadata": {
    "id": "1uUqwgkSRRkk"
   },
   "outputs": [],
   "source": [
    "import pyterrier_rag.readers\n",
    "fid = pyterrier_rag.readers.T5FiD(\"terrierteam/t5fid_base_nq\")\n",
    "\n",
    "e5_fid = e5_ret %3 >> fid\n",
    "monot5_fid = monoT5_ret %3 >> fid"
   ]
  },
  {
   "cell_type": "markdown",
   "metadata": {
    "id": "_rVm--ixWhyP"
   },
   "source": [
    "When we invoke search on this pipeline, we now have a qanswer column that contains the answer."
   ]
  },
  {
   "cell_type": "code",
   "execution_count": 10,
   "metadata": {
    "id": "YXIGgxY0W6H9"
   },
   "outputs": [
    {
     "data": {
      "application/vnd.jupyter.widget-view+json": {
       "model_id": "dd6d64765d404519b0e1dc5bfda3643c",
       "version_major": 2,
       "version_minor": 0
      },
      "text/plain": [
       "NumpyRetriever scoring:   0%|          | 0/5131 [00:00<?, ?docbatch/s]"
      ]
     },
     "metadata": {},
     "output_type": "display_data"
    },
    {
     "data": {
      "text/html": [
       "<div>\n",
       "<style scoped>\n",
       "    .dataframe tbody tr th:only-of-type {\n",
       "        vertical-align: middle;\n",
       "    }\n",
       "\n",
       "    .dataframe tbody tr th {\n",
       "        vertical-align: top;\n",
       "    }\n",
       "\n",
       "    .dataframe thead th {\n",
       "        text-align: right;\n",
       "    }\n",
       "</style>\n",
       "<table border=\"1\" class=\"dataframe\">\n",
       "  <thead>\n",
       "    <tr style=\"text-align: right;\">\n",
       "      <th></th>\n",
       "      <th>qid</th>\n",
       "      <th>query</th>\n",
       "      <th>qanswer</th>\n",
       "    </tr>\n",
       "  </thead>\n",
       "  <tbody>\n",
       "    <tr>\n",
       "      <th>0</th>\n",
       "      <td>1</td>\n",
       "      <td>What are chemical reactions?</td>\n",
       "      <td>chemical equations</td>\n",
       "    </tr>\n",
       "  </tbody>\n",
       "</table>\n",
       "</div>"
      ],
      "text/plain": [
       "  qid                         query             qanswer\n",
       "0   1  What are chemical reactions?  chemical equations"
      ]
     },
     "execution_count": 10,
     "metadata": {},
     "output_type": "execute_result"
    }
   ],
   "source": [
    "monot5_fid.search(\"What are chemical reactions?\")"
   ]
  },
  {
   "cell_type": "markdown",
   "metadata": {
    "id": "APGF5E99RrlR"
   },
   "source": [
    "# Datasets & Experiments\n",
    "\n",
    "Lets compare the effectiveness of these three approaches on the Natural Questions dataset. These topics are automatically downloaded."
   ]
  },
  {
   "cell_type": "code",
   "execution_count": 11,
   "metadata": {
    "id": "W--MmMYZSqSP"
   },
   "outputs": [
    {
     "data": {
      "text/html": [
       "<div>\n",
       "<style scoped>\n",
       "    .dataframe tbody tr th:only-of-type {\n",
       "        vertical-align: middle;\n",
       "    }\n",
       "\n",
       "    .dataframe tbody tr th {\n",
       "        vertical-align: top;\n",
       "    }\n",
       "\n",
       "    .dataframe thead th {\n",
       "        text-align: right;\n",
       "    }\n",
       "</style>\n",
       "<table border=\"1\" class=\"dataframe\">\n",
       "  <thead>\n",
       "    <tr style=\"text-align: right;\">\n",
       "      <th></th>\n",
       "      <th>qid</th>\n",
       "      <th>query</th>\n",
       "    </tr>\n",
       "  </thead>\n",
       "  <tbody>\n",
       "    <tr>\n",
       "      <th>0</th>\n",
       "      <td>dev_0</td>\n",
       "      <td>who sings does he love me with reba</td>\n",
       "    </tr>\n",
       "    <tr>\n",
       "      <th>1</th>\n",
       "      <td>dev_1</td>\n",
       "      <td>how many pages is invisible man by ralph ellison</td>\n",
       "    </tr>\n",
       "  </tbody>\n",
       "</table>\n",
       "</div>"
      ],
      "text/plain": [
       "     qid                                             query\n",
       "0  dev_0               who sings does he love me with reba\n",
       "1  dev_1  how many pages is invisible man by ralph ellison"
      ]
     },
     "execution_count": 11,
     "metadata": {},
     "output_type": "execute_result"
    }
   ],
   "source": [
    "dataset = pt.get_dataset('rag:nq')\n",
    "dataset.get_topics('dev').head(2)"
   ]
  },
  {
   "cell_type": "markdown",
   "metadata": {
    "id": "scU0jppYSz3C"
   },
   "source": [
    "And their corresponding gold truth answers:"
   ]
  },
  {
   "cell_type": "code",
   "execution_count": 12,
   "metadata": {
    "id": "ESvmPzxYSwr4"
   },
   "outputs": [
    {
     "data": {
      "text/html": [
       "<div>\n",
       "<style scoped>\n",
       "    .dataframe tbody tr th:only-of-type {\n",
       "        vertical-align: middle;\n",
       "    }\n",
       "\n",
       "    .dataframe tbody tr th {\n",
       "        vertical-align: top;\n",
       "    }\n",
       "\n",
       "    .dataframe thead th {\n",
       "        text-align: right;\n",
       "    }\n",
       "</style>\n",
       "<table border=\"1\" class=\"dataframe\">\n",
       "  <thead>\n",
       "    <tr style=\"text-align: right;\">\n",
       "      <th></th>\n",
       "      <th>qid</th>\n",
       "      <th>query</th>\n",
       "      <th>gold_answer</th>\n",
       "    </tr>\n",
       "  </thead>\n",
       "  <tbody>\n",
       "    <tr>\n",
       "      <th>0</th>\n",
       "      <td>dev_0</td>\n",
       "      <td>who sings does he love me with reba</td>\n",
       "      <td>Linda Davis</td>\n",
       "    </tr>\n",
       "    <tr>\n",
       "      <th>1</th>\n",
       "      <td>dev_1</td>\n",
       "      <td>how many pages is invisible man by ralph ellison</td>\n",
       "      <td>581 (second edition)</td>\n",
       "    </tr>\n",
       "  </tbody>\n",
       "</table>\n",
       "</div>"
      ],
      "text/plain": [
       "     qid                                             query  \\\n",
       "0  dev_0               who sings does he love me with reba   \n",
       "1  dev_1  how many pages is invisible man by ralph ellison   \n",
       "\n",
       "            gold_answer  \n",
       "0           Linda Davis  \n",
       "1  581 (second edition)  "
      ]
     },
     "execution_count": 12,
     "metadata": {},
     "output_type": "execute_result"
    }
   ],
   "source": [
    "dataset.get_topics('dev').head(2).merge(dataset.get_answers('dev'))"
   ]
  },
  {
   "cell_type": "markdown",
   "metadata": {
    "id": "N0I13hlRSubW"
   },
   "source": [
    "Now lets run an experiment using Natural Questions.\n",
    "\n",
    "They first four arguments correspond closely to main details our our experiment - specifically, we're going to compare: `e5_fid`, `monot5_fid`, on 100 dev topics (this take about 2 minutes). We'll evaluate our answers using Exact Match and F1.\n",
    "\n",
    "The additional arguments are:\n",
    " - `batch_size` - how many queries to run and evalate at once. Not always necessary, but makes the progress bars more granular\n",
    " - `verbose` - display progress bars for this experiment\n",
    " - `precompute_prefix` - optimise the experiment such that E5 query encoding and retrieval is only computed once.\n",
    " - `names` - for naming rows in the output dataframe\n",
    " - `baseline` - we'll compare to E5 FiD with E5 monoT5 FID"
   ]
  },
  {
   "cell_type": "code",
   "execution_count": 13,
   "metadata": {
    "id": "J1P3zIz883c7"
   },
   "outputs": [
    {
     "name": "stderr",
     "output_type": "stream",
     "text": [
      "Precomputing results of 100 topics on shared pipeline component E5.base()\n",
      "/opt/miniconda3/lib/python3.10/site-packages/pyterrier/pipelines.py:229: UserWarning: precompute_prefix with batch_size is very experimental. Please report any problems\n",
      "  warn(\"precompute_prefix with batch_size is very experimental. Please report any problems\")\n"
     ]
    },
    {
     "data": {
      "application/vnd.jupyter.widget-view+json": {
       "model_id": "6a38ca278bb9424399a5cfd2868170ac",
       "version_major": 2,
       "version_minor": 0
      },
      "text/plain": [
       "pt.Experiment precomputation:   0%|          | 0/4 [00:00<?, ?batches/s]"
      ]
     },
     "metadata": {},
     "output_type": "display_data"
    },
    {
     "data": {
      "application/vnd.jupyter.widget-view+json": {
       "model_id": "d6f2893789f6460d812b1cb1bff8343f",
       "version_major": 2,
       "version_minor": 0
      },
      "text/plain": [
       "pt.Experiment:   0%|          | 0/8 [00:00<?, ?batches/s]"
      ]
     },
     "metadata": {},
     "output_type": "display_data"
    },
    {
     "data": {
      "application/vnd.jupyter.widget-view+json": {
       "model_id": "fcf5a73e513345f8bea593ce3ef85fa3",
       "version_major": 2,
       "version_minor": 0
      },
      "text/plain": [
       "NumpyRetriever scoring:   0%|          | 0/5131 [00:00<?, ?docbatch/s]"
      ]
     },
     "metadata": {},
     "output_type": "display_data"
    },
    {
     "data": {
      "application/vnd.jupyter.widget-view+json": {
       "model_id": "2d51727093194d94bc62b42f30fc2ae0",
       "version_major": 2,
       "version_minor": 0
      },
      "text/plain": [
       "NumpyRetriever scoring:   0%|          | 0/5131 [00:00<?, ?docbatch/s]"
      ]
     },
     "metadata": {},
     "output_type": "display_data"
    },
    {
     "data": {
      "application/vnd.jupyter.widget-view+json": {
       "model_id": "7fbb89a6c99b46fca0575c78e48d37a0",
       "version_major": 2,
       "version_minor": 0
      },
      "text/plain": [
       "NumpyRetriever scoring:   0%|          | 0/5131 [00:00<?, ?docbatch/s]"
      ]
     },
     "metadata": {},
     "output_type": "display_data"
    },
    {
     "data": {
      "application/vnd.jupyter.widget-view+json": {
       "model_id": "5c081061e1cc424ea89469da317297e8",
       "version_major": 2,
       "version_minor": 0
      },
      "text/plain": [
       "NumpyRetriever scoring:   0%|          | 0/5131 [00:00<?, ?docbatch/s]"
      ]
     },
     "metadata": {},
     "output_type": "display_data"
    },
    {
     "data": {
      "application/vnd.jupyter.widget-view+json": {
       "model_id": "bdcf41d3a45c4e3d8623bf54ada63079",
       "version_major": 2,
       "version_minor": 0
      },
      "text/plain": [
       "NumpyRetriever scoring:   0%|          | 0/5131 [00:00<?, ?docbatch/s]"
      ]
     },
     "metadata": {},
     "output_type": "display_data"
    },
    {
     "data": {
      "application/vnd.jupyter.widget-view+json": {
       "model_id": "5f6d7b36c5bb46d2a367b4862f5f24c1",
       "version_major": 2,
       "version_minor": 0
      },
      "text/plain": [
       "NumpyRetriever scoring:   0%|          | 0/5131 [00:00<?, ?docbatch/s]"
      ]
     },
     "metadata": {},
     "output_type": "display_data"
    },
    {
     "data": {
      "application/vnd.jupyter.widget-view+json": {
       "model_id": "4c20f88d778a45aab7ec89f9ec68d68b",
       "version_major": 2,
       "version_minor": 0
      },
      "text/plain": [
       "NumpyRetriever scoring:   0%|          | 0/5131 [00:00<?, ?docbatch/s]"
      ]
     },
     "metadata": {},
     "output_type": "display_data"
    },
    {
     "data": {
      "application/vnd.jupyter.widget-view+json": {
       "model_id": "0563086f44ca4d809ff31aaed867fc6d",
       "version_major": 2,
       "version_minor": 0
      },
      "text/plain": [
       "NumpyRetriever scoring:   0%|          | 0/5131 [00:00<?, ?docbatch/s]"
      ]
     },
     "metadata": {},
     "output_type": "display_data"
    },
    {
     "data": {
      "text/html": [
       "<div>\n",
       "<style scoped>\n",
       "    .dataframe tbody tr th:only-of-type {\n",
       "        vertical-align: middle;\n",
       "    }\n",
       "\n",
       "    .dataframe tbody tr th {\n",
       "        vertical-align: top;\n",
       "    }\n",
       "\n",
       "    .dataframe thead th {\n",
       "        text-align: right;\n",
       "    }\n",
       "</style>\n",
       "<table border=\"1\" class=\"dataframe\">\n",
       "  <thead>\n",
       "    <tr style=\"text-align: right;\">\n",
       "      <th></th>\n",
       "      <th>name</th>\n",
       "      <th>EM</th>\n",
       "      <th>F1</th>\n",
       "      <th>EM +</th>\n",
       "      <th>EM -</th>\n",
       "      <th>EM p-value</th>\n",
       "      <th>F1 +</th>\n",
       "      <th>F1 -</th>\n",
       "      <th>F1 p-value</th>\n",
       "    </tr>\n",
       "  </thead>\n",
       "  <tbody>\n",
       "    <tr>\n",
       "      <th>0</th>\n",
       "      <td>e5 fid</td>\n",
       "      <td>0.49</td>\n",
       "      <td>0.608476</td>\n",
       "      <td>NaN</td>\n",
       "      <td>NaN</td>\n",
       "      <td>NaN</td>\n",
       "      <td>NaN</td>\n",
       "      <td>NaN</td>\n",
       "      <td>NaN</td>\n",
       "    </tr>\n",
       "    <tr>\n",
       "      <th>1</th>\n",
       "      <td>e5_monoT5_fid</td>\n",
       "      <td>0.42</td>\n",
       "      <td>0.557000</td>\n",
       "      <td>6.0</td>\n",
       "      <td>13.0</td>\n",
       "      <td>0.108656</td>\n",
       "      <td>6.0</td>\n",
       "      <td>14.0</td>\n",
       "      <td>0.10999</td>\n",
       "    </tr>\n",
       "  </tbody>\n",
       "</table>\n",
       "</div>"
      ],
      "text/plain": [
       "            name    EM        F1  EM +  EM -  EM p-value  F1 +  F1 -  \\\n",
       "0         e5 fid  0.49  0.608476   NaN   NaN         NaN   NaN   NaN   \n",
       "1  e5_monoT5_fid  0.42  0.557000   6.0  13.0    0.108656   6.0  14.0   \n",
       "\n",
       "   F1 p-value  \n",
       "0         NaN  \n",
       "1     0.10999  "
      ]
     },
     "execution_count": 13,
     "metadata": {},
     "output_type": "execute_result"
    }
   ],
   "source": [
    "pt.Experiment(\n",
    "    [e5_fid, monot5_fid],\n",
    "    dataset.get_topics('dev').head(100), # NB: remove .head(100) to run on all dev topics\n",
    "    dataset.get_answers('dev'),\n",
    "    [pyterrier_rag.measures.F1, pyterrier_rag.measures.EM],\n",
    "    batch_size=25,\n",
    "    verbose=True,\n",
    "    precompute_prefix=True,\n",
    "    names=['e5 fid', 'e5_monoT5_fid'],\n",
    "    baseline=0\n",
    ")"
   ]
  },
  {
   "cell_type": "markdown",
   "metadata": {
    "id": "sLYuzyouyXGW"
   },
   "source": [
    "# That's all folks.\n",
    "\n",
    "There are lots of other retrievers possible in PyTerrier - for instance [query expansion](https://pyterrier.readthedocs.io/en/latest/rewrite.html), [doc2query](https://github.com/terrierteam/pyterrier_doc2query), or [dense retrieval](https://github.com/terrierteam/pyterrier_dr) (including the [ColBERT](https://github.com/terrierteam/pyterrier_colbert) multi-representation dense model) or learned sparse, ala [SPLADE](https://github.com/cmacdonald/pyt_splade).\n",
    "\n",
    "PyTerrier-RAG also provides easy access to lots of other datasets."
   ]
  },
  {
   "cell_type": "code",
   "execution_count": null,
   "metadata": {},
   "outputs": [],
   "source": []
  }
 ],
 "metadata": {
  "accelerator": "GPU",
  "colab": {
   "gpuType": "T4",
   "provenance": []
  },
  "kernelspec": {
   "display_name": "Python [conda env:base] *",
   "language": "python",
   "name": "conda-base-py"
  },
  "language_info": {
   "codemirror_mode": {
    "name": "ipython",
    "version": 3
   },
   "file_extension": ".py",
   "mimetype": "text/x-python",
   "name": "python",
   "nbconvert_exporter": "python",
   "pygments_lexer": "ipython3",
   "version": "3.10.13"
  }
 },
 "nbformat": 4,
 "nbformat_minor": 4
}
